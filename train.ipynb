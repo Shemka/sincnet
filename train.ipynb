{
 "cells": [
  {
   "cell_type": "code",
   "execution_count": 1,
   "metadata": {
    "colab": {
     "base_uri": "https://localhost:8080/"
    },
    "id": "MLiP_keqpfnh",
    "outputId": "62292687-e1b7-46ce-ae41-6d3c2cda9dd4"
   },
   "outputs": [
    {
     "name": "stdout",
     "output_type": "stream",
     "text": [
      "--2021-06-22 10:20:15--  https://www.openslr.org/resources/12/train-clean-100.tar.gz\n",
      "Resolving www.openslr.org (www.openslr.org)... 46.101.158.64\n",
      "Connecting to www.openslr.org (www.openslr.org)|46.101.158.64|:443... connected.\n",
      "HTTP request sent, awaiting response... 200 OK\n",
      "Length: 6387309499 (5.9G) [application/x-gzip]\n",
      "Saving to: ‘train.tar.gz’\n",
      "\n",
      "train.tar.gz        100%[===================>]   5.95G  9.24MB/s    in 11m 2s  \n",
      "\n",
      "2021-06-22 10:31:18 (9.20 MB/s) - ‘train.tar.gz’ saved [6387309499/6387309499]\n",
      "\n"
     ]
    }
   ],
   "source": [
    "!wget -O train.tar.gz https://www.openslr.org/resources/12/train-clean-100.tar.gz"
   ]
  },
  {
   "cell_type": "code",
   "execution_count": null,
   "metadata": {},
   "outputs": [],
   "source": [
    "!tar -zxvf train.tar.gz"
   ]
  },
  {
   "cell_type": "code",
   "execution_count": 2,
   "metadata": {
    "id": "W6BGLYHbrKmm"
   },
   "outputs": [],
   "source": [
    "import torch\n",
    "import torchaudio\n",
    "import torch.nn.functional as F\n",
    "import torch.nn as nn\n",
    "import sys\n",
    "from torch.autograd import Variable\n",
    "import math\n",
    "import torchaudio.transforms as T\n",
    "import matplotlib.pyplot as plt\n",
    "import numpy as np\n",
    "from IPython.display import Audio, display\n",
    "import pandas as pd\n",
    "import glob\n",
    "import seaborn as sns\n",
    "import warnings\n",
    "from torch.utils.data import Dataset, DataLoader\n",
    "import soundfile as sf\n",
    "from pathlib import Path\n",
    "from tqdm.notebook import tqdm\n",
    "import shutil\n",
    "from typing import Tuple\n",
    "import os\n",
    "import wandb\n",
    "import pytorch_lightning as pl\n",
    "from sincnet import *\n",
    "\n",
    "SEED = 1337\n",
    "TRAIN_BATCH_SIZE = 128\n",
    "TEST_BATCH_SIZE = 256\n",
    "\n",
    "warnings.simplefilter('ignore')"
   ]
  },
  {
   "cell_type": "markdown",
   "metadata": {
    "id": "LXqdgcTfBiHy"
   },
   "source": [
    "# Data Preparation"
   ]
  },
  {
   "cell_type": "markdown",
   "metadata": {
    "id": "UOrrldSvFaM_"
   },
   "source": [
    "## Collect speakers"
   ]
  },
  {
   "cell_type": "code",
   "execution_count": 2,
   "metadata": {
    "id": "YVXxgTJM_Q8G"
   },
   "outputs": [],
   "source": [
    "with open('LibriSpeech/SPEAKERS.TXT', 'r', encoding='utf-8') as f:\n",
    "    lines = f.read().split(';')[-1].split('\\n')[:-1]\n",
    "    lines = [list(map(lambda x: x.strip(), line.split('|'))) for line in lines]\n",
    "    lines = [[line[0], line[1], line[2], line[3], line[5]+' '+line[6]] if line[0] == '60' else line for line in lines] # Preproc strange line"
   ]
  },
  {
   "cell_type": "code",
   "execution_count": 3,
   "metadata": {
    "id": "AX_bcFc6B9p_"
   },
   "outputs": [],
   "source": [
    "speakers = pd.DataFrame(lines[1:], columns=lines[0])\n",
    "speakers['ID'] = speakers['ID'].astype(int)\n",
    "speakers['MINUTES'] = speakers['MINUTES'].astype(float)\n",
    "# As long as we use train-clean-100, we should filter a bit our df\n",
    "speakers = speakers[speakers['SUBSET'] == 'train-clean-100']"
   ]
  },
  {
   "cell_type": "markdown",
   "metadata": {
    "id": "ImEALGbRF4b9"
   },
   "source": [
    "## Collect paths"
   ]
  },
  {
   "cell_type": "code",
   "execution_count": 4,
   "metadata": {
    "id": "jmXUFgwXGhHs"
   },
   "outputs": [],
   "source": [
    "id2paths = {}\n",
    "for id in speakers['ID']:\n",
    "    id2paths[id] = list(filter(lambda x: x[-4:] == 'flac', glob.glob(f'LibriSpeech/train-clean-100/{id}/*/*')))\n",
    "\n",
    "one2many = []\n",
    "for id, paths in list(id2paths.items()):\n",
    "    for path in paths:\n",
    "        one2many.append([id, path])\n",
    "\n",
    "ids_df = pd.DataFrame(one2many, columns=['ID', 'PATH'])\n",
    "speakers = ids_df.merge(speakers, how='left', on='ID')"
   ]
  },
  {
   "cell_type": "code",
   "execution_count": 5,
   "metadata": {
    "id": "yUbedu_KICDY"
   },
   "outputs": [],
   "source": [
    "unq_speakers = list(speakers['NAME'].value_counts().index)\n",
    "label_encoder = dict(zip(unq_speakers, range(len(unq_speakers))))"
   ]
  },
  {
   "cell_type": "code",
   "execution_count": 6,
   "metadata": {
    "colab": {
     "base_uri": "https://localhost:8080/",
     "height": 295
    },
    "id": "kQxRQLt8JW27",
    "outputId": "cddc19fc-dde3-49bc-8193-db6a960b4ac6"
   },
   "outputs": [
    {
     "data": {
      "image/png": "[encoded data removed]",
      "text/plain": [
       "<Figure size 720x288 with 1 Axes>"
      ]
     },
     "metadata": {
      "needs_background": "light"
     },
     "output_type": "display_data"
    }
   ],
   "source": [
    "plt.figure(figsize=(10, 4))\n",
    "plt.title(\"Labels count distribution\")\n",
    "sns.distplot(speakers['NAME'].map(label_encoder))\n",
    "plt.show()"
   ]
  },
  {
   "cell_type": "code",
   "execution_count": 7,
   "metadata": {
    "colab": {
     "base_uri": "https://localhost:8080/",
     "height": 424
    },
    "id": "57_3tMFwUeDU",
    "outputId": "40f58eb8-61df-40c8-a276-3dd47fc3fb37"
   },
   "outputs": [
    {
     "data": {
      "text/html": [
       "<div>\n",
       "<style scoped>\n",
       "    .dataframe tbody tr th:only-of-type {\n",
       "        vertical-align: middle;\n",
       "    }\n",
       "\n",
       "    .dataframe tbody tr th {\n",
       "        vertical-align: top;\n",
       "    }\n",
       "\n",
       "    .dataframe thead th {\n",
       "        text-align: right;\n",
       "    }\n",
       "</style>\n",
       "<table border=\"1\" class=\"dataframe\">\n",
       "  <thead>\n",
       "    <tr style=\"text-align: right;\">\n",
       "      <th></th>\n",
       "      <th>ID</th>\n",
       "      <th>PATH</th>\n",
       "      <th>SEX</th>\n",
       "      <th>SUBSET</th>\n",
       "      <th>MINUTES</th>\n",
       "      <th>NAME</th>\n",
       "    </tr>\n",
       "  </thead>\n",
       "  <tbody>\n",
       "    <tr>\n",
       "      <th>0</th>\n",
       "      <td>19</td>\n",
       "      <td>LibriSpeech/train-clean-100/19/198/19-198-0000...</td>\n",
       "      <td>F</td>\n",
       "      <td>train-clean-100</td>\n",
       "      <td>25.19</td>\n",
       "      <td>Kara Shallenberg</td>\n",
       "    </tr>\n",
       "    <tr>\n",
       "      <th>1</th>\n",
       "      <td>19</td>\n",
       "      <td>LibriSpeech/train-clean-100/19/198/19-198-0020...</td>\n",
       "      <td>F</td>\n",
       "      <td>train-clean-100</td>\n",
       "      <td>25.19</td>\n",
       "      <td>Kara Shallenberg</td>\n",
       "    </tr>\n",
       "    <tr>\n",
       "      <th>2</th>\n",
       "      <td>19</td>\n",
       "      <td>LibriSpeech/train-clean-100/19/198/19-198-0001...</td>\n",
       "      <td>F</td>\n",
       "      <td>train-clean-100</td>\n",
       "      <td>25.19</td>\n",
       "      <td>Kara Shallenberg</td>\n",
       "    </tr>\n",
       "    <tr>\n",
       "      <th>3</th>\n",
       "      <td>19</td>\n",
       "      <td>LibriSpeech/train-clean-100/19/198/19-198-0035...</td>\n",
       "      <td>F</td>\n",
       "      <td>train-clean-100</td>\n",
       "      <td>25.19</td>\n",
       "      <td>Kara Shallenberg</td>\n",
       "    </tr>\n",
       "    <tr>\n",
       "      <th>4</th>\n",
       "      <td>19</td>\n",
       "      <td>LibriSpeech/train-clean-100/19/198/19-198-0021...</td>\n",
       "      <td>F</td>\n",
       "      <td>train-clean-100</td>\n",
       "      <td>25.19</td>\n",
       "      <td>Kara Shallenberg</td>\n",
       "    </tr>\n",
       "    <tr>\n",
       "      <th>...</th>\n",
       "      <td>...</td>\n",
       "      <td>...</td>\n",
       "      <td>...</td>\n",
       "      <td>...</td>\n",
       "      <td>...</td>\n",
       "      <td>...</td>\n",
       "    </tr>\n",
       "    <tr>\n",
       "      <th>28529</th>\n",
       "      <td>8975</td>\n",
       "      <td>LibriSpeech/train-clean-100/8975/270782/8975-2...</td>\n",
       "      <td>F</td>\n",
       "      <td>train-clean-100</td>\n",
       "      <td>25.11</td>\n",
       "      <td>Daisy Flaim</td>\n",
       "    </tr>\n",
       "    <tr>\n",
       "      <th>28530</th>\n",
       "      <td>8975</td>\n",
       "      <td>LibriSpeech/train-clean-100/8975/270782/8975-2...</td>\n",
       "      <td>F</td>\n",
       "      <td>train-clean-100</td>\n",
       "      <td>25.11</td>\n",
       "      <td>Daisy Flaim</td>\n",
       "    </tr>\n",
       "    <tr>\n",
       "      <th>28531</th>\n",
       "      <td>8975</td>\n",
       "      <td>LibriSpeech/train-clean-100/8975/270782/8975-2...</td>\n",
       "      <td>F</td>\n",
       "      <td>train-clean-100</td>\n",
       "      <td>25.11</td>\n",
       "      <td>Daisy Flaim</td>\n",
       "    </tr>\n",
       "    <tr>\n",
       "      <th>28532</th>\n",
       "      <td>8975</td>\n",
       "      <td>LibriSpeech/train-clean-100/8975/270782/8975-2...</td>\n",
       "      <td>F</td>\n",
       "      <td>train-clean-100</td>\n",
       "      <td>25.11</td>\n",
       "      <td>Daisy Flaim</td>\n",
       "    </tr>\n",
       "    <tr>\n",
       "      <th>28533</th>\n",
       "      <td>8975</td>\n",
       "      <td>LibriSpeech/train-clean-100/8975/270782/8975-2...</td>\n",
       "      <td>F</td>\n",
       "      <td>train-clean-100</td>\n",
       "      <td>25.11</td>\n",
       "      <td>Daisy Flaim</td>\n",
       "    </tr>\n",
       "  </tbody>\n",
       "</table>\n",
       "<p>28534 rows × 6 columns</p>\n",
       "</div>"
      ],
      "text/plain": [
       "         ID                                               PATH SEX  \\\n",
       "0        19  LibriSpeech/train-clean-100/19/198/19-198-0000...   F   \n",
       "1        19  LibriSpeech/train-clean-100/19/198/19-198-0020...   F   \n",
       "2        19  LibriSpeech/train-clean-100/19/198/19-198-0001...   F   \n",
       "3        19  LibriSpeech/train-clean-100/19/198/19-198-0035...   F   \n",
       "4        19  LibriSpeech/train-clean-100/19/198/19-198-0021...   F   \n",
       "...     ...                                                ...  ..   \n",
       "28529  8975  LibriSpeech/train-clean-100/8975/270782/8975-2...   F   \n",
       "28530  8975  LibriSpeech/train-clean-100/8975/270782/8975-2...   F   \n",
       "28531  8975  LibriSpeech/train-clean-100/8975/270782/8975-2...   F   \n",
       "28532  8975  LibriSpeech/train-clean-100/8975/270782/8975-2...   F   \n",
       "28533  8975  LibriSpeech/train-clean-100/8975/270782/8975-2...   F   \n",
       "\n",
       "                SUBSET  MINUTES              NAME  \n",
       "0      train-clean-100    25.19  Kara Shallenberg  \n",
       "1      train-clean-100    25.19  Kara Shallenberg  \n",
       "2      train-clean-100    25.19  Kara Shallenberg  \n",
       "3      train-clean-100    25.19  Kara Shallenberg  \n",
       "4      train-clean-100    25.19  Kara Shallenberg  \n",
       "...                ...      ...               ...  \n",
       "28529  train-clean-100    25.11       Daisy Flaim  \n",
       "28530  train-clean-100    25.11       Daisy Flaim  \n",
       "28531  train-clean-100    25.11       Daisy Flaim  \n",
       "28532  train-clean-100    25.11       Daisy Flaim  \n",
       "28533  train-clean-100    25.11       Daisy Flaim  \n",
       "\n",
       "[28534 rows x 6 columns]"
      ]
     },
     "execution_count": 7,
     "metadata": {},
     "output_type": "execute_result"
    }
   ],
   "source": [
    "speakers"
   ]
  },
  {
   "cell_type": "markdown",
   "metadata": {
    "id": "qfUIvoc8YKSf"
   },
   "source": [
    "## Data Preprocessing"
   ]
  },
  {
   "cell_type": "code",
   "execution_count": 8,
   "metadata": {
    "id": "Oju0NTSqRq3b"
   },
   "outputs": [],
   "source": [
    "# As long as in original paper they make 200ms chunks with 10ms overlap from\n",
    "# original audio file we do the same. We just prepare chunks idx and will \n",
    "# process them dinamicly in dataset later\n",
    "def generate_chunk_idx_and_norm(data: pd.DataFrame, \n",
    "                                sample_rate: int) -> pd.DataFrame:\n",
    "    overlap = int(0.01*sample_rate)\n",
    "    chunk_size = int(0.2*sample_rate)\n",
    "    idx_set = {\n",
    "        \"NAME\": [],\n",
    "        \"ID\": [],\n",
    "        \"CHUNK_START\": [],\n",
    "        \"CHUNK_END\": [],\n",
    "        \"PATH\": []\n",
    "    }\n",
    "    for _, row in tqdm(data.iterrows(), total=data.shape[0]):\n",
    "        try:\n",
    "            wf, sr = sf.read(row['PATH'])\n",
    "        except:\n",
    "            print('Smth wrong with file!')\n",
    "            continue\n",
    "        if sr != sample_rate:\n",
    "            print('Smth wrong!')\n",
    "        if len(wf.shape) == 1:\n",
    "            wf = wf.reshape(1, -1)\n",
    "        for i in range(int(overlap), wf.shape[1], int(chunk_size-overlap)):\n",
    "            if i+chunk_size-overlap >= wf.shape[1]:\n",
    "                break\n",
    "            idx_set['NAME'].append(row['NAME'])\n",
    "            idx_set['ID'].append(row['ID'])\n",
    "            idx_set['PATH'].append(row['PATH'])\n",
    "            idx_set['CHUNK_START'].append(i-overlap)\n",
    "            idx_set['CHUNK_END'].append(i+chunk_size-overlap)\n",
    "        os.remove(row['PATH'])\n",
    "        sf.write(row['PATH'], (wf/np.max(np.abs(wf))).reshape(-1), sample_rate)\n",
    "    return pd.DataFrame(idx_set)"
   ]
  },
  {
   "cell_type": "code",
   "execution_count": 9,
   "metadata": {
    "id": "oZoUHJwXRyw6"
   },
   "outputs": [
    {
     "data": {
      "application/vnd.jupyter.widget-view+json": {
       "model_id": "68ffb28fa6e84db887e076b07ebc069c",
       "version_major": 2,
       "version_minor": 0
      },
      "text/plain": [
       "HBox(children=(HTML(value=''), FloatProgress(value=0.0, max=28534.0), HTML(value='')))"
      ]
     },
     "metadata": {},
     "output_type": "display_data"
    },
    {
     "name": "stdout",
     "output_type": "stream",
     "text": [
      "Smth wrong with file!\n",
      "\n"
     ]
    }
   ],
   "source": [
    "idx_set = generate_chunk_idx_and_norm(speakers, 16000)"
   ]
  },
  {
   "cell_type": "markdown",
   "metadata": {
    "id": "gKfogfUBnr71"
   },
   "source": [
    "## Label Processing\n",
    "Convert strings to labels"
   ]
  },
  {
   "cell_type": "code",
   "execution_count": 10,
   "metadata": {
    "id": "u1DeAq4Snrcs"
   },
   "outputs": [],
   "source": [
    "label_encoder = dict(zip(list(idx_set['NAME'].unique()), range(idx_set['NAME'].unique().shape[0])))\n",
    "inverse_label_encoder = dict(zip(range(idx_set['NAME'].unique().shape[0]), list(idx_set['NAME'].unique())))"
   ]
  },
  {
   "cell_type": "code",
   "execution_count": 11,
   "metadata": {
    "id": "W-G3BYpJpm4w"
   },
   "outputs": [],
   "source": [
    "idx_set['NAME'] = idx_set['NAME'].map(label_encoder)"
   ]
  },
  {
   "cell_type": "markdown",
   "metadata": {
    "id": "YMt1l_zwYlrA"
   },
   "source": [
    "## Train/Test split"
   ]
  },
  {
   "cell_type": "code",
   "execution_count": 12,
   "metadata": {
    "id": "RtlGEoHbY3Ch"
   },
   "outputs": [],
   "source": [
    "# Following the SincNet paper we should choose 12-15s audios for train set\n",
    "# and 2-6s audios for test set\n",
    "def train_test_split(data: pd.DataFrame) -> Tuple[pd.DataFrame]:\n",
    "    new_data = data[['ID', 'PATH']].drop_duplicates(['ID', 'PATH'])\\\n",
    "                .reset_index(drop=True)\n",
    "    train_samples = {k:[] for k in ['ID', 'PATH']}\n",
    "    test_samples = {k:[] for k in ['ID', 'PATH']}\n",
    "\n",
    "    for _, row in tqdm(new_data.iterrows(), total=new_data.shape[0]):\n",
    "        info = torchaudio.info(row['PATH'])\n",
    "        duration = info.num_frames/info.sample_rate\n",
    "        if 2 <= duration <= 6:\n",
    "            test_samples['ID'].append(row['ID'])\n",
    "            test_samples['PATH'].append(row['PATH'])\n",
    "        elif 12 <= duration <= 15:\n",
    "            train_samples['ID'].append(row['ID'])\n",
    "            train_samples['PATH'].append(row['PATH'])\n",
    "\n",
    "    train_samples = data[(data['ID'].isin(train_samples['ID']))&(data['PATH'].isin(train_samples['PATH']))]\n",
    "    test_samples = data[(data['ID'].isin(test_samples['ID']))&(data['PATH'].isin(test_samples['PATH']))]\n",
    "    return train_samples.reset_index(drop=True), test_samples.reset_index(drop=True)\n",
    "\n",
    "        "
   ]
  },
  {
   "cell_type": "code",
   "execution_count": 13,
   "metadata": {
    "colab": {
     "base_uri": "https://localhost:8080/",
     "height": 67,
     "referenced_widgets": [
      "b5acae6728094ea886ce4ec73d76ff68",
      "f37c883e694842b2b399a8db6090638d",
      "1e698830a7294eeebd0ad2c8cb2f2ab6",
      "a970531b7d634cfc84cdf625bfd44ccb",
      "cf5df3347aee4f3284fbce1df500d562",
      "3621619fe3254617b1dd11cf651c51b5",
      "fab2c205e33b47dea5d5a809881a1917",
      "f822907ee5f84e28937057f7542af0f3"
     ]
    },
    "id": "A3nrNtrOcKEH",
    "outputId": "2a043206-90c7-4521-d02b-ef540a9ac2a5"
   },
   "outputs": [
    {
     "data": {
      "application/vnd.jupyter.widget-view+json": {
       "model_id": "b493891cfadc40ddbabeda0161700497",
       "version_major": 2,
       "version_minor": 0
      },
      "text/plain": [
       "HBox(children=(HTML(value=''), FloatProgress(value=0.0, max=28533.0), HTML(value='')))"
      ]
     },
     "metadata": {},
     "output_type": "display_data"
    },
    {
     "name": "stdout",
     "output_type": "stream",
     "text": [
      "\n"
     ]
    }
   ],
   "source": [
    "train, test = train_test_split(idx_set)"
   ]
  },
  {
   "cell_type": "markdown",
   "metadata": {
    "id": "HM2NTPDSibAd"
   },
   "source": [
    "## Create Dataset"
   ]
  },
  {
   "cell_type": "code",
   "execution_count": 14,
   "metadata": {
    "id": "N64w3fBpgWyH"
   },
   "outputs": [],
   "source": [
    "class LibriSpeechDataset(Dataset):\n",
    "    def __init__(self, data: pd.DataFrame, sample_rate: int = 16000):\n",
    "        # We need this for CER\n",
    "        unq_samples = data[['ID', 'PATH']].drop_duplicates(['ID', 'PATH']).values\n",
    "        unq_samples = list(map(lambda x: (x[0], x[1]), list(unq_samples)))\n",
    "        d = dict(zip(unq_samples, range(len(unq_samples))))\n",
    "        data['SAMPLE_ID'] = data.apply(lambda row: d[(row['ID'], row['PATH'])], axis=1)\n",
    "        self.data = data\n",
    "         \n",
    "    def __len__(self):\n",
    "        return len(self.data)\n",
    "\n",
    "    def __getitem__(self, idx):\n",
    "        sample = self.data.iloc[idx]\n",
    "        frames_num = int(sample['CHUNK_END']-sample['CHUNK_START'])\n",
    "        wf, sr = torchaudio.load(sample['PATH'], \n",
    "                                 frame_offset=sample['CHUNK_START'],\n",
    "                                 num_frames=frames_num)\n",
    "        return {\n",
    "            'audios': wf,\n",
    "            'labels': sample['NAME'],\n",
    "            'sample_ids': sample['SAMPLE_ID']\n",
    "        }"
   ]
  },
  {
   "cell_type": "code",
   "execution_count": 15,
   "metadata": {
    "id": "jv_sOmhcqViS"
   },
   "outputs": [],
   "source": [
    "train_dataset = LibriSpeechDataset(train)\n",
    "test_dataset = LibriSpeechDataset(test)\n",
    "\n",
    "train_dl = DataLoader(train_dataset, batch_size=TRAIN_BATCH_SIZE, \n",
    "                      shuffle=True, num_workers=4)\n",
    "test_dl = DataLoader(test_dataset, batch_size=TEST_BATCH_SIZE, \n",
    "                      shuffle=False, num_workers=4)"
   ]
  },
  {
   "cell_type": "markdown",
   "metadata": {
    "id": "8_3lXZRQrxsR"
   },
   "source": [
    "# Model"
   ]
  },
  {
   "cell_type": "markdown",
   "metadata": {},
   "source": [
    "## Architecture"
   ]
  },
  {
   "cell_type": "code",
   "execution_count": 4,
   "metadata": {
    "id": "eTuG7Ye2rrJ9"
   },
   "outputs": [],
   "source": [
    "from model import SincNet"
   ]
  },
  {
   "cell_type": "markdown",
   "metadata": {},
   "source": [
    "## Train and validate"
   ]
  },
  {
   "cell_type": "code",
   "execution_count": 17,
   "metadata": {},
   "outputs": [
    {
     "name": "stderr",
     "output_type": "stream",
     "text": [
      "\u001b[34m\u001b[1mwandb\u001b[0m: Currently logged in as: \u001b[33msheminy32\u001b[0m (use `wandb login --relogin` to force relogin)\n"
     ]
    },
    {
     "data": {
      "text/plain": [
       "True"
      ]
     },
     "execution_count": 17,
     "metadata": {},
     "output_type": "execute_result"
    }
   ],
   "source": [
    "wandb.login()"
   ]
  },
  {
   "cell_type": "code",
   "execution_count": 21,
   "metadata": {},
   "outputs": [
    {
     "data": {
      "text/plain": [
       "SincNet(\n",
       "  (cnn): Sequential(\n",
       "    (0): LayerNorm((1, 3200), eps=1e-06, elementwise_affine=True)\n",
       "    (1): SincConv_fast()\n",
       "    (2): MaxPool1d(kernel_size=3, stride=3, padding=0, dilation=1, ceil_mode=False)\n",
       "    (3): LayerNorm((80, 983), eps=1e-06, elementwise_affine=True)\n",
       "    (4): ReLU()\n",
       "    (5): Conv1d(80, 60, kernel_size=(5,), stride=(1,))\n",
       "    (6): MaxPool1d(kernel_size=3, stride=3, padding=0, dilation=1, ceil_mode=False)\n",
       "    (7): LayerNorm((60, 326), eps=1e-06, elementwise_affine=True)\n",
       "    (8): ReLU()\n",
       "    (9): Conv1d(60, 60, kernel_size=(5,), stride=(1,))\n",
       "    (10): MaxPool1d(kernel_size=3, stride=3, padding=0, dilation=1, ceil_mode=False)\n",
       "    (11): LayerNorm((60, 107), eps=1e-06, elementwise_affine=True)\n",
       "    (12): ReLU()\n",
       "  )\n",
       "  (mlp): Sequential(\n",
       "    (0): Linear(in_features=6420, out_features=2048, bias=False)\n",
       "    (1): BatchNorm1d(2048, eps=1e-05, momentum=0.05, affine=True, track_running_stats=True)\n",
       "    (2): LeakyReLU(negative_slope=0.2)\n",
       "    (3): Linear(in_features=2048, out_features=2048, bias=False)\n",
       "    (4): BatchNorm1d(2048, eps=1e-05, momentum=0.05, affine=True, track_running_stats=True)\n",
       "    (5): Linear(in_features=2048, out_features=2048, bias=False)\n",
       "    (6): BatchNorm1d(2048, eps=1e-05, momentum=0.05, affine=True, track_running_stats=True)\n",
       "    (7): LeakyReLU(negative_slope=0.2)\n",
       "    (8): Linear(in_features=2048, out_features=251, bias=True)\n",
       "  )\n",
       "  (loss_fn): CrossEntropyLoss()\n",
       ")"
      ]
     },
     "execution_count": 21,
     "metadata": {},
     "output_type": "execute_result"
    }
   ],
   "source": [
    "model"
   ]
  },
  {
   "cell_type": "code",
   "execution_count": 22,
   "metadata": {
    "colab": {
     "base_uri": "https://localhost:8080/",
     "height": 367,
     "referenced_widgets": [
      "9bbc46f38449463abb76b45f7c2c512b",
      "3a826544341f4fa1a8e4d28744ce7b4d",
      "719aa33747eb41c88ea70a82647b77d4",
      "ff9c27b76bd34e3598325b1e88b37fa0",
      "98ad48d95dbc44679f3b0a653729119a",
      "f8168e0ea9c749619b5602e26ac88a8b",
      "dbe318ad1e5349a298c26f9409a983ca",
      "152ca37572a84bb6a6c73923e0a863e9",
      "cd44df8db573404b80029eaf4d3c1f75",
      "2b2a0ef9937348d1a8cd26f164d6885e",
      "93d189d5a4994da58c5d397ef0831e61",
      "b46a701533d343c1857769615a3d49d3",
      "566c99ab691646a788bfc4a43cb70de2",
      "af82089222084ec8a384c339955e58cd",
      "86f56d67d65a449d8dfe4ce93eff5ba8",
      "c1bb01186a8c45788b271c0dd75e5773"
     ]
    },
    "id": "fhuKHYK6DK5p",
    "outputId": "9cff71de-4cc2-470e-dd8a-bbc73a7a7b0e"
   },
   "outputs": [
    {
     "data": {
      "text/html": [
       "\n",
       "                Tracking run with wandb version 0.10.32<br/>\n",
       "                Syncing run <strong style=\"color:#cdcd00\">cnn-adam-1</strong> to <a href=\"https://wandb.ai\" target=\"_blank\">Weights & Biases</a> <a href=\"https://docs.wandb.com/integrations/jupyter.html\" target=\"_blank\">(Documentation)</a>.<br/>\n",
       "                Project page: <a href=\"https://wandb.ai/sheminy32/sincnet-exp\" target=\"_blank\">https://wandb.ai/sheminy32/sincnet-exp</a><br/>\n",
       "                Run page: <a href=\"https://wandb.ai/sheminy32/sincnet-exp/runs/cnn-adam-1\" target=\"_blank\">https://wandb.ai/sheminy32/sincnet-exp/runs/cnn-adam-1</a><br/>\n",
       "                Run data is saved locally in <code>/notebooks/wandb/run-20210623_055543-cnn-adam-1</code><br/><br/>\n",
       "            "
      ],
      "text/plain": [
       "<IPython.core.display.HTML object>"
      ]
     },
     "metadata": {},
     "output_type": "display_data"
    },
    {
     "name": "stderr",
     "output_type": "stream",
     "text": [
      "Global seed set to 1337\n",
      "GPU available: True, used: True\n",
      "TPU available: False, using: 0 TPU cores\n",
      "LOCAL_RANK: 0 - CUDA_VISIBLE_DEVICES: [0]\n",
      "\n",
      "  | Name    | Type             | Params\n",
      "---------------------------------------------\n",
      "0 | cnn     | Sequential       | 277 K \n",
      "1 | mlp     | Sequential       | 22.1 M\n",
      "2 | loss_fn | CrossEntropyLoss | 0     \n",
      "---------------------------------------------\n",
      "22.3 M    Trainable params\n",
      "0         Non-trainable params\n",
      "22.3 M    Total params\n",
      "89.365    Total estimated model params size (MB)\n"
     ]
    },
    {
     "data": {
      "application/vnd.jupyter.widget-view+json": {
       "model_id": "",
       "version_major": 2,
       "version_minor": 0
      },
      "text/plain": [
       "HBox(children=(HTML(value='Validation sanity check'), FloatProgress(value=1.0, bar_style='info', layout=Layout…"
      ]
     },
     "metadata": {},
     "output_type": "display_data"
    },
    {
     "name": "stderr",
     "output_type": "stream",
     "text": [
      "Global seed set to 1337\n"
     ]
    },
    {
     "data": {
      "application/vnd.jupyter.widget-view+json": {
       "model_id": "3205975c3f784eeba3e3fed448cecacc",
       "version_major": 2,
       "version_minor": 0
      },
      "text/plain": [
       "HBox(children=(HTML(value='Training'), FloatProgress(value=1.0, bar_style='info', layout=Layout(flex='2'), max…"
      ]
     },
     "metadata": {},
     "output_type": "display_data"
    },
    {
     "data": {
      "application/vnd.jupyter.widget-view+json": {
       "model_id": "",
       "version_major": 2,
       "version_minor": 0
      },
      "text/plain": [
       "HBox(children=(HTML(value='Validating'), FloatProgress(value=1.0, bar_style='info', layout=Layout(flex='2'), m…"
      ]
     },
     "metadata": {},
     "output_type": "display_data"
    },
    {
     "data": {
      "application/vnd.jupyter.widget-view+json": {
       "model_id": "",
       "version_major": 2,
       "version_minor": 0
      },
      "text/plain": [
       "HBox(children=(HTML(value='Validating'), FloatProgress(value=1.0, bar_style='info', layout=Layout(flex='2'), m…"
      ]
     },
     "metadata": {},
     "output_type": "display_data"
    },
    {
     "data": {
      "application/vnd.jupyter.widget-view+json": {
       "model_id": "",
       "version_major": 2,
       "version_minor": 0
      },
      "text/plain": [
       "HBox(children=(HTML(value='Validating'), FloatProgress(value=1.0, bar_style='info', layout=Layout(flex='2'), m…"
      ]
     },
     "metadata": {},
     "output_type": "display_data"
    },
    {
     "data": {
      "application/vnd.jupyter.widget-view+json": {
       "model_id": "",
       "version_major": 2,
       "version_minor": 0
      },
      "text/plain": [
       "HBox(children=(HTML(value='Validating'), FloatProgress(value=1.0, bar_style='info', layout=Layout(flex='2'), m…"
      ]
     },
     "metadata": {},
     "output_type": "display_data"
    },
    {
     "data": {
      "application/vnd.jupyter.widget-view+json": {
       "model_id": "",
       "version_major": 2,
       "version_minor": 0
      },
      "text/plain": [
       "HBox(children=(HTML(value='Validating'), FloatProgress(value=1.0, bar_style='info', layout=Layout(flex='2'), m…"
      ]
     },
     "metadata": {},
     "output_type": "display_data"
    },
    {
     "data": {
      "application/vnd.jupyter.widget-view+json": {
       "model_id": "",
       "version_major": 2,
       "version_minor": 0
      },
      "text/plain": [
       "HBox(children=(HTML(value='Validating'), FloatProgress(value=1.0, bar_style='info', layout=Layout(flex='2'), m…"
      ]
     },
     "metadata": {},
     "output_type": "display_data"
    },
    {
     "data": {
      "application/vnd.jupyter.widget-view+json": {
       "model_id": "",
       "version_major": 2,
       "version_minor": 0
      },
      "text/plain": [
       "HBox(children=(HTML(value='Validating'), FloatProgress(value=1.0, bar_style='info', layout=Layout(flex='2'), m…"
      ]
     },
     "metadata": {},
     "output_type": "display_data"
    },
    {
     "data": {
      "application/vnd.jupyter.widget-view+json": {
       "model_id": "",
       "version_major": 2,
       "version_minor": 0
      },
      "text/plain": [
       "HBox(children=(HTML(value='Validating'), FloatProgress(value=1.0, bar_style='info', layout=Layout(flex='2'), m…"
      ]
     },
     "metadata": {},
     "output_type": "display_data"
    },
    {
     "data": {
      "application/vnd.jupyter.widget-view+json": {
       "model_id": "",
       "version_major": 2,
       "version_minor": 0
      },
      "text/plain": [
       "HBox(children=(HTML(value='Validating'), FloatProgress(value=1.0, bar_style='info', layout=Layout(flex='2'), m…"
      ]
     },
     "metadata": {},
     "output_type": "display_data"
    },
    {
     "data": {
      "application/vnd.jupyter.widget-view+json": {
       "model_id": "",
       "version_major": 2,
       "version_minor": 0
      },
      "text/plain": [
       "HBox(children=(HTML(value='Validating'), FloatProgress(value=1.0, bar_style='info', layout=Layout(flex='2'), m…"
      ]
     },
     "metadata": {},
     "output_type": "display_data"
    },
    {
     "name": "stderr",
     "output_type": "stream",
     "text": [
      "\u001b[34m\u001b[1mwandb\u001b[0m: Network error resolved after 0:00:38.503127, resuming normal operation.\n"
     ]
    },
    {
     "name": "stdout",
     "output_type": "stream",
     "text": [
      "\n"
     ]
    },
    {
     "data": {
      "text/html": [
       "<br/>Waiting for W&B process to finish, PID 3556<br/>Program ended successfully."
      ],
      "text/plain": [
       "<IPython.core.display.HTML object>"
      ]
     },
     "metadata": {},
     "output_type": "display_data"
    },
    {
     "data": {
      "application/vnd.jupyter.widget-view+json": {
       "model_id": "",
       "version_major": 2,
       "version_minor": 0
      },
      "text/plain": [
       "VBox(children=(Label(value=' 0.00MB of 0.00MB uploaded (0.00MB deduped)\\r'), FloatProgress(value=1.0, max=1.0)…"
      ]
     },
     "metadata": {},
     "output_type": "display_data"
    },
    {
     "data": {
      "text/html": [
       "Find user logs for this run at: <code>/notebooks/wandb/run-20210623_055543-cnn-adam-1/logs/debug.log</code>"
      ],
      "text/plain": [
       "<IPython.core.display.HTML object>"
      ]
     },
     "metadata": {},
     "output_type": "display_data"
    },
    {
     "data": {
      "text/html": [
       "Find internal logs for this run at: <code>/notebooks/wandb/run-20210623_055543-cnn-adam-1/logs/debug-internal.log</code>"
      ],
      "text/plain": [
       "<IPython.core.display.HTML object>"
      ]
     },
     "metadata": {},
     "output_type": "display_data"
    },
    {
     "data": {
      "text/html": [
       "<h3>Run summary:</h3><br/><style>\n",
       "    table.wandb td:nth-child(1) { padding: 0 10px; text-align: right }\n",
       "    </style><table class=\"wandb\">\n",
       "<tr><td>val_loss/step</td><td>0.75601</td></tr><tr><td>val_fer(%)/step</td><td>23.01587</td></tr><tr><td>_runtime</td><td>7087</td></tr><tr><td>_timestamp</td><td>1624434830</td></tr><tr><td>_step</td><td>73172</td></tr><tr><td>val_loss/epoch</td><td>0.79385</td></tr><tr><td>val_fer(%)/epoch</td><td>20.86795</td></tr><tr><td>val_cer</td><td>0.23613</td></tr><tr><td>train_loss/step</td><td>0.30462</td></tr><tr><td>train_fer(%)/step</td><td>9.375</td></tr><tr><td>train_loss/epoch</td><td>0.30837</td></tr><tr><td>train_fer(%)/epoch</td><td>9.75062</td></tr></table>"
      ],
      "text/plain": [
       "<IPython.core.display.HTML object>"
      ]
     },
     "metadata": {},
     "output_type": "display_data"
    },
    {
     "data": {
      "text/html": [
       "<h3>Run history:</h3><br/><style>\n",
       "    table.wandb td:nth-child(1) { padding: 0 10px; text-align: right }\n",
       "    </style><table class=\"wandb\">\n",
       "<tr><td>val_loss/step</td><td>▆▅▆▇▅▅▃▅▅▅▄▄▄▄▃▃▃▆▃▆▅▂▄▂▃▂▁█▃▄▂▃▄▄▃▂▂▁▃▄</td></tr><tr><td>val_fer(%)/step</td><td>█▇▇█▅▅▃▆▇▆▅▅▅▄▃▄▃▇▃▆▆▂▅▂▃▂▁█▄▄▂▂▄▅▃▂▂▁▃▃</td></tr><tr><td>_runtime</td><td>▁▁▁▁▂▂▂▂▂▃▃▃▃▃▃▄▄▄▄▄▄▅▅▅▅▅▆▆▆▆▆▆▇▇▇▇▇███</td></tr><tr><td>_timestamp</td><td>▁▁▁▁▂▂▂▂▂▃▃▃▃▃▃▄▄▄▄▄▄▅▅▅▅▅▆▆▆▆▆▆▇▇▇▇▇███</td></tr><tr><td>_step</td><td>▁▁▁▁▂▂▂▂▂▃▃▃▃▃▃▄▄▄▄▄▅▅▅▅▅▅▆▆▆▆▆▇▇▇▇▇▇███</td></tr><tr><td>val_loss/epoch</td><td>█▃▂▂▁▁▁▁▁▁▁</td></tr><tr><td>val_fer(%)/epoch</td><td>█▃▃▂▂▂▁▁▁▁▁</td></tr><tr><td>val_cer</td><td>█▂▂▁▁▁▁▁▁▁▁</td></tr><tr><td>train_loss/step</td><td>█▇▅▅▄▄▄▃▃▃▃▃▂▂▂▃▂▂▂▂▂▂▂▂▁▂▂▂▂▁▂▁▁▁▁▁▁▁▁▂</td></tr><tr><td>train_fer(%)/step</td><td>█▇▅▅▄▄▄▄▄▃▃▄▃▂▃▃▃▃▃▃▂▂▂▂▂▂▂▂▂▁▂▁▁▂▁▂▁▁▁▂</td></tr><tr><td>train_loss/epoch</td><td>█▄▃▃▂▂▂▁▁▁</td></tr><tr><td>train_fer(%)/epoch</td><td>█▅▄▃▂▂▂▁▁▁</td></tr></table><br/>"
      ],
      "text/plain": [
       "<IPython.core.display.HTML object>"
      ]
     },
     "metadata": {},
     "output_type": "display_data"
    },
    {
     "data": {
      "text/html": [
       "Synced 5 W&B file(s), 0 media file(s), 0 artifact file(s) and 0 other file(s)"
      ],
      "text/plain": [
       "<IPython.core.display.HTML object>"
      ]
     },
     "metadata": {},
     "output_type": "display_data"
    },
    {
     "data": {
      "text/html": [
       "\n",
       "                    <br/>Synced <strong style=\"color:#cdcd00\">cnn-adam-1</strong>: <a href=\"https://wandb.ai/sheminy32/sincnet-exp/runs/cnn-adam-1\" target=\"_blank\">https://wandb.ai/sheminy32/sincnet-exp/runs/cnn-adam-1</a><br/>\n",
       "                "
      ],
      "text/plain": [
       "<IPython.core.display.HTML object>"
      ]
     },
     "metadata": {},
     "output_type": "display_data"
    }
   ],
   "source": [
    "config = {\n",
    "    \"n_class\": len(label_encoder),\n",
    "    \"sample_rate\": 16000,\n",
    "    \"input_shape\": (1, 3200),\n",
    "    \"use_wandb\": True\n",
    "}\n",
    "for optimizer in [\"rmsprop\", \"sgd\", \"adam\"]:\n",
    "    for first_conv in [\"sinc\", \"base\"]:\n",
    "        \n",
    "        config['optimizer'] = optimizer\n",
    "        config['first_conv'] = first_conv\n",
    "        \n",
    "        name = f\"cnn-{optimizer}\" if first_conv == 'base' else f\"{first_conv}-{optimizer}\"\n",
    "        wandb.init(project=\"sincnet-exp\", entity=\"sheminy32\", config=config, id=name)\n",
    "        \n",
    "        pl.seed_everything(SEED)\n",
    "\n",
    "        cb = pl.callbacks.ModelCheckpoint(\n",
    "            dirpath='models/',\n",
    "            filename=name+'-{epoch}-{val_cer:.2f}-{val_fer(%):.2f}.ckp',\n",
    "            monitor=\"val_cer\",\n",
    "            mode=\"min\"\n",
    "        )\n",
    "\n",
    "        model = SincNet(config)\n",
    "        trainer = pl.Trainer(gpus=1, max_epochs=10, callbacks=[cb])\n",
    "        trainer.fit(model, train_dl, test_dl)\n",
    "        wandb.finish()"
   ]
  }
 ],
 "metadata": {
  "accelerator": "GPU",
  "colab": {
   "collapsed_sections": [],
   "machine_shape": "hm",
   "name": "test_task_vk",
   "provenance": []
  },
  "kernelspec": {
   "display_name": "Python 3",
   "language": "python",
   "name": "python3"
  },
  "language_info": {
   "codemirror_mode": {
    "name": "ipython",
    "version": 3
   },
   "file_extension": ".py",
   "mimetype": "text/x-python",
   "name": "python",
   "nbconvert_exporter": "python",
   "pygments_lexer": "ipython3",
   "version": "3.8.5"
  },
  "widgets": {
   "application/vnd.jupyter.widget-state+json": {
    "152ca37572a84bb6a6c73923e0a863e9": {
     "model_module": "@jupyter-widgets/base",
     "model_name": "LayoutModel",
     "state": {
      "_model_module": "@jupyter-widgets/base",
      "_model_module_version": "1.2.0",
      "_model_name": "LayoutModel",
      "_view_count": null,
      "_view_module": "@jupyter-widgets/base",
      "_view_module_version": "1.2.0",
      "_view_name": "LayoutView",
      "align_content": null,
      "align_items": null,
      "align_self": null,
      "border": null,
      "bottom": null,
      "display": null,
      "flex": null,
      "flex_flow": null,
      "grid_area": null,
      "grid_auto_columns": null,
      "grid_auto_flow": null,
      "grid_auto_rows": null,
      "grid_column": null,
      "grid_gap": null,
      "grid_row": null,
      "grid_template_areas": null,
      "grid_template_columns": null,
      "grid_template_rows": null,
      "height": null,
      "justify_content": null,
      "justify_items": null,
      "left": null,
      "margin": null,
      "max_height": null,
      "max_width": null,
      "min_height": null,
      "min_width": null,
      "object_fit": null,
      "object_position": null,
      "order": null,
      "overflow": null,
      "overflow_x": null,
      "overflow_y": null,
      "padding": null,
      "right": null,
      "top": null,
      "visibility": null,
      "width": null
     }
    },
    "1e698830a7294eeebd0ad2c8cb2f2ab6": {
     "model_module": "@jupyter-widgets/controls",
     "model_name": "FloatProgressModel",
     "state": {
      "_dom_classes": [],
      "_model_module": "@jupyter-widgets/controls",
      "_model_module_version": "1.5.0",
      "_model_name": "FloatProgressModel",
      "_view_count": null,
      "_view_module": "@jupyter-widgets/controls",
      "_view_module_version": "1.5.0",
      "_view_name": "ProgressView",
      "bar_style": "success",
      "description": "100%",
      "description_tooltip": null,
      "layout": "IPY_MODEL_3621619fe3254617b1dd11cf651c51b5",
      "max": 28537,
      "min": 0,
      "orientation": "horizontal",
      "style": "IPY_MODEL_cf5df3347aee4f3284fbce1df500d562",
      "value": 28537
     }
    },
    "2b2a0ef9937348d1a8cd26f164d6885e": {
     "model_module": "@jupyter-widgets/base",
     "model_name": "LayoutModel",
     "state": {
      "_model_module": "@jupyter-widgets/base",
      "_model_module_version": "1.2.0",
      "_model_name": "LayoutModel",
      "_view_count": null,
      "_view_module": "@jupyter-widgets/base",
      "_view_module_version": "1.2.0",
      "_view_name": "LayoutView",
      "align_content": null,
      "align_items": null,
      "align_self": null,
      "border": null,
      "bottom": null,
      "display": "inline-flex",
      "flex": null,
      "flex_flow": "row wrap",
      "grid_area": null,
      "grid_auto_columns": null,
      "grid_auto_flow": null,
      "grid_auto_rows": null,
      "grid_column": null,
      "grid_gap": null,
      "grid_row": null,
      "grid_template_areas": null,
      "grid_template_columns": null,
      "grid_template_rows": null,
      "height": null,
      "justify_content": null,
      "justify_items": null,
      "left": null,
      "margin": null,
      "max_height": null,
      "max_width": null,
      "min_height": null,
      "min_width": null,
      "object_fit": null,
      "object_position": null,
      "order": null,
      "overflow": null,
      "overflow_x": null,
      "overflow_y": null,
      "padding": null,
      "right": null,
      "top": null,
      "visibility": null,
      "width": "100%"
     }
    },
    "3621619fe3254617b1dd11cf651c51b5": {
     "model_module": "@jupyter-widgets/base",
     "model_name": "LayoutModel",
     "state": {
      "_model_module": "@jupyter-widgets/base",
      "_model_module_version": "1.2.0",
      "_model_name": "LayoutModel",
      "_view_count": null,
      "_view_module": "@jupyter-widgets/base",
      "_view_module_version": "1.2.0",
      "_view_name": "LayoutView",
      "align_content": null,
      "align_items": null,
      "align_self": null,
      "border": null,
      "bottom": null,
      "display": null,
      "flex": null,
      "flex_flow": null,
      "grid_area": null,
      "grid_auto_columns": null,
      "grid_auto_flow": null,
      "grid_auto_rows": null,
      "grid_column": null,
      "grid_gap": null,
      "grid_row": null,
      "grid_template_areas": null,
      "grid_template_columns": null,
      "grid_template_rows": null,
      "height": null,
      "justify_content": null,
      "justify_items": null,
      "left": null,
      "margin": null,
      "max_height": null,
      "max_width": null,
      "min_height": null,
      "min_width": null,
      "object_fit": null,
      "object_position": null,
      "order": null,
      "overflow": null,
      "overflow_x": null,
      "overflow_y": null,
      "padding": null,
      "right": null,
      "top": null,
      "visibility": null,
      "width": null
     }
    },
    "3a826544341f4fa1a8e4d28744ce7b4d": {
     "model_module": "@jupyter-widgets/base",
     "model_name": "LayoutModel",
     "state": {
      "_model_module": "@jupyter-widgets/base",
      "_model_module_version": "1.2.0",
      "_model_name": "LayoutModel",
      "_view_count": null,
      "_view_module": "@jupyter-widgets/base",
      "_view_module_version": "1.2.0",
      "_view_name": "LayoutView",
      "align_content": null,
      "align_items": null,
      "align_self": null,
      "border": null,
      "bottom": null,
      "display": "inline-flex",
      "flex": null,
      "flex_flow": "row wrap",
      "grid_area": null,
      "grid_auto_columns": null,
      "grid_auto_flow": null,
      "grid_auto_rows": null,
      "grid_column": null,
      "grid_gap": null,
      "grid_row": null,
      "grid_template_areas": null,
      "grid_template_columns": null,
      "grid_template_rows": null,
      "height": null,
      "justify_content": null,
      "justify_items": null,
      "left": null,
      "margin": null,
      "max_height": null,
      "max_width": null,
      "min_height": null,
      "min_width": null,
      "object_fit": null,
      "object_position": null,
      "order": null,
      "overflow": null,
      "overflow_x": null,
      "overflow_y": null,
      "padding": null,
      "right": null,
      "top": null,
      "visibility": null,
      "width": "100%"
     }
    },
    "566c99ab691646a788bfc4a43cb70de2": {
     "model_module": "@jupyter-widgets/controls",
     "model_name": "ProgressStyleModel",
     "state": {
      "_model_module": "@jupyter-widgets/controls",
      "_model_module_version": "1.5.0",
      "_model_name": "ProgressStyleModel",
      "_view_count": null,
      "_view_module": "@jupyter-widgets/base",
      "_view_module_version": "1.2.0",
      "_view_name": "StyleView",
      "bar_color": null,
      "description_width": "initial"
     }
    },
    "719aa33747eb41c88ea70a82647b77d4": {
     "model_module": "@jupyter-widgets/controls",
     "model_name": "FloatProgressModel",
     "state": {
      "_dom_classes": [],
      "_model_module": "@jupyter-widgets/controls",
      "_model_module_version": "1.5.0",
      "_model_name": "FloatProgressModel",
      "_view_count": null,
      "_view_module": "@jupyter-widgets/controls",
      "_view_module_version": "1.5.0",
      "_view_name": "ProgressView",
      "bar_style": "danger",
      "description": "Validation sanity check:   0%",
      "description_tooltip": null,
      "layout": "IPY_MODEL_f8168e0ea9c749619b5602e26ac88a8b",
      "max": 2,
      "min": 0,
      "orientation": "horizontal",
      "style": "IPY_MODEL_98ad48d95dbc44679f3b0a653729119a",
      "value": 0
     }
    },
    "86f56d67d65a449d8dfe4ce93eff5ba8": {
     "model_module": "@jupyter-widgets/controls",
     "model_name": "DescriptionStyleModel",
     "state": {
      "_model_module": "@jupyter-widgets/controls",
      "_model_module_version": "1.5.0",
      "_model_name": "DescriptionStyleModel",
      "_view_count": null,
      "_view_module": "@jupyter-widgets/base",
      "_view_module_version": "1.2.0",
      "_view_name": "StyleView",
      "description_width": ""
     }
    },
    "93d189d5a4994da58c5d397ef0831e61": {
     "model_module": "@jupyter-widgets/controls",
     "model_name": "FloatProgressModel",
     "state": {
      "_dom_classes": [],
      "_model_module": "@jupyter-widgets/controls",
      "_model_module_version": "1.5.0",
      "_model_name": "FloatProgressModel",
      "_view_count": null,
      "_view_module": "@jupyter-widgets/controls",
      "_view_module_version": "1.5.0",
      "_view_name": "ProgressView",
      "bar_style": "info",
      "description": "Epoch 0:  87%",
      "description_tooltip": null,
      "layout": "IPY_MODEL_af82089222084ec8a384c339955e58cd",
      "max": 7318,
      "min": 0,
      "orientation": "horizontal",
      "style": "IPY_MODEL_566c99ab691646a788bfc4a43cb70de2",
      "value": 6400
     }
    },
    "98ad48d95dbc44679f3b0a653729119a": {
     "model_module": "@jupyter-widgets/controls",
     "model_name": "ProgressStyleModel",
     "state": {
      "_model_module": "@jupyter-widgets/controls",
      "_model_module_version": "1.5.0",
      "_model_name": "ProgressStyleModel",
      "_view_count": null,
      "_view_module": "@jupyter-widgets/base",
      "_view_module_version": "1.2.0",
      "_view_name": "StyleView",
      "bar_color": null,
      "description_width": "initial"
     }
    },
    "9bbc46f38449463abb76b45f7c2c512b": {
     "model_module": "@jupyter-widgets/controls",
     "model_name": "HBoxModel",
     "state": {
      "_dom_classes": [],
      "_model_module": "@jupyter-widgets/controls",
      "_model_module_version": "1.5.0",
      "_model_name": "HBoxModel",
      "_view_count": null,
      "_view_module": "@jupyter-widgets/controls",
      "_view_module_version": "1.5.0",
      "_view_name": "HBoxView",
      "box_style": "",
      "children": [
       "IPY_MODEL_719aa33747eb41c88ea70a82647b77d4",
       "IPY_MODEL_ff9c27b76bd34e3598325b1e88b37fa0"
      ],
      "layout": "IPY_MODEL_3a826544341f4fa1a8e4d28744ce7b4d"
     }
    },
    "a970531b7d634cfc84cdf625bfd44ccb": {
     "model_module": "@jupyter-widgets/controls",
     "model_name": "HTMLModel",
     "state": {
      "_dom_classes": [],
      "_model_module": "@jupyter-widgets/controls",
      "_model_module_version": "1.5.0",
      "_model_name": "HTMLModel",
      "_view_count": null,
      "_view_module": "@jupyter-widgets/controls",
      "_view_module_version": "1.5.0",
      "_view_name": "HTMLView",
      "description": "",
      "description_tooltip": null,
      "layout": "IPY_MODEL_f822907ee5f84e28937057f7542af0f3",
      "placeholder": "​",
      "style": "IPY_MODEL_fab2c205e33b47dea5d5a809881a1917",
      "value": " 28537/28537 [00:51&lt;00:00, 554.87it/s]"
     }
    },
    "af82089222084ec8a384c339955e58cd": {
     "model_module": "@jupyter-widgets/base",
     "model_name": "LayoutModel",
     "state": {
      "_model_module": "@jupyter-widgets/base",
      "_model_module_version": "1.2.0",
      "_model_name": "LayoutModel",
      "_view_count": null,
      "_view_module": "@jupyter-widgets/base",
      "_view_module_version": "1.2.0",
      "_view_name": "LayoutView",
      "align_content": null,
      "align_items": null,
      "align_self": null,
      "border": null,
      "bottom": null,
      "display": null,
      "flex": "2",
      "flex_flow": null,
      "grid_area": null,
      "grid_auto_columns": null,
      "grid_auto_flow": null,
      "grid_auto_rows": null,
      "grid_column": null,
      "grid_gap": null,
      "grid_row": null,
      "grid_template_areas": null,
      "grid_template_columns": null,
      "grid_template_rows": null,
      "height": null,
      "justify_content": null,
      "justify_items": null,
      "left": null,
      "margin": null,
      "max_height": null,
      "max_width": null,
      "min_height": null,
      "min_width": null,
      "object_fit": null,
      "object_position": null,
      "order": null,
      "overflow": null,
      "overflow_x": null,
      "overflow_y": null,
      "padding": null,
      "right": null,
      "top": null,
      "visibility": null,
      "width": null
     }
    },
    "b46a701533d343c1857769615a3d49d3": {
     "model_module": "@jupyter-widgets/controls",
     "model_name": "HTMLModel",
     "state": {
      "_dom_classes": [],
      "_model_module": "@jupyter-widgets/controls",
      "_model_module_version": "1.5.0",
      "_model_name": "HTMLModel",
      "_view_count": null,
      "_view_module": "@jupyter-widgets/controls",
      "_view_module_version": "1.5.0",
      "_view_name": "HTMLView",
      "description": "",
      "description_tooltip": null,
      "layout": "IPY_MODEL_c1bb01186a8c45788b271c0dd75e5773",
      "placeholder": "​",
      "style": "IPY_MODEL_86f56d67d65a449d8dfe4ce93eff5ba8",
      "value": " 6400/7318 [32:05&lt;04:36,  3.32it/s, loss=1.49, v_num=7, val_loss=5.960, val_fer(%)=99.00, val_cer=12.00, train_fer(%)=39.10]"
     }
    },
    "b5acae6728094ea886ce4ec73d76ff68": {
     "model_module": "@jupyter-widgets/controls",
     "model_name": "HBoxModel",
     "state": {
      "_dom_classes": [],
      "_model_module": "@jupyter-widgets/controls",
      "_model_module_version": "1.5.0",
      "_model_name": "HBoxModel",
      "_view_count": null,
      "_view_module": "@jupyter-widgets/controls",
      "_view_module_version": "1.5.0",
      "_view_name": "HBoxView",
      "box_style": "",
      "children": [
       "IPY_MODEL_1e698830a7294eeebd0ad2c8cb2f2ab6",
       "IPY_MODEL_a970531b7d634cfc84cdf625bfd44ccb"
      ],
      "layout": "IPY_MODEL_f37c883e694842b2b399a8db6090638d"
     }
    },
    "c1bb01186a8c45788b271c0dd75e5773": {
     "model_module": "@jupyter-widgets/base",
     "model_name": "LayoutModel",
     "state": {
      "_model_module": "@jupyter-widgets/base",
      "_model_module_version": "1.2.0",
      "_model_name": "LayoutModel",
      "_view_count": null,
      "_view_module": "@jupyter-widgets/base",
      "_view_module_version": "1.2.0",
      "_view_name": "LayoutView",
      "align_content": null,
      "align_items": null,
      "align_self": null,
      "border": null,
      "bottom": null,
      "display": null,
      "flex": null,
      "flex_flow": null,
      "grid_area": null,
      "grid_auto_columns": null,
      "grid_auto_flow": null,
      "grid_auto_rows": null,
      "grid_column": null,
      "grid_gap": null,
      "grid_row": null,
      "grid_template_areas": null,
      "grid_template_columns": null,
      "grid_template_rows": null,
      "height": null,
      "justify_content": null,
      "justify_items": null,
      "left": null,
      "margin": null,
      "max_height": null,
      "max_width": null,
      "min_height": null,
      "min_width": null,
      "object_fit": null,
      "object_position": null,
      "order": null,
      "overflow": null,
      "overflow_x": null,
      "overflow_y": null,
      "padding": null,
      "right": null,
      "top": null,
      "visibility": null,
      "width": null
     }
    },
    "cd44df8db573404b80029eaf4d3c1f75": {
     "model_module": "@jupyter-widgets/controls",
     "model_name": "HBoxModel",
     "state": {
      "_dom_classes": [],
      "_model_module": "@jupyter-widgets/controls",
      "_model_module_version": "1.5.0",
      "_model_name": "HBoxModel",
      "_view_count": null,
      "_view_module": "@jupyter-widgets/controls",
      "_view_module_version": "1.5.0",
      "_view_name": "HBoxView",
      "box_style": "",
      "children": [
       "IPY_MODEL_93d189d5a4994da58c5d397ef0831e61",
       "IPY_MODEL_b46a701533d343c1857769615a3d49d3"
      ],
      "layout": "IPY_MODEL_2b2a0ef9937348d1a8cd26f164d6885e"
     }
    },
    "cf5df3347aee4f3284fbce1df500d562": {
     "model_module": "@jupyter-widgets/controls",
     "model_name": "ProgressStyleModel",
     "state": {
      "_model_module": "@jupyter-widgets/controls",
      "_model_module_version": "1.5.0",
      "_model_name": "ProgressStyleModel",
      "_view_count": null,
      "_view_module": "@jupyter-widgets/base",
      "_view_module_version": "1.2.0",
      "_view_name": "StyleView",
      "bar_color": null,
      "description_width": "initial"
     }
    },
    "dbe318ad1e5349a298c26f9409a983ca": {
     "model_module": "@jupyter-widgets/controls",
     "model_name": "DescriptionStyleModel",
     "state": {
      "_model_module": "@jupyter-widgets/controls",
      "_model_module_version": "1.5.0",
      "_model_name": "DescriptionStyleModel",
      "_view_count": null,
      "_view_module": "@jupyter-widgets/base",
      "_view_module_version": "1.2.0",
      "_view_name": "StyleView",
      "description_width": ""
     }
    },
    "f37c883e694842b2b399a8db6090638d": {
     "model_module": "@jupyter-widgets/base",
     "model_name": "LayoutModel",
     "state": {
      "_model_module": "@jupyter-widgets/base",
      "_model_module_version": "1.2.0",
      "_model_name": "LayoutModel",
      "_view_count": null,
      "_view_module": "@jupyter-widgets/base",
      "_view_module_version": "1.2.0",
      "_view_name": "LayoutView",
      "align_content": null,
      "align_items": null,
      "align_self": null,
      "border": null,
      "bottom": null,
      "display": null,
      "flex": null,
      "flex_flow": null,
      "grid_area": null,
      "grid_auto_columns": null,
      "grid_auto_flow": null,
      "grid_auto_rows": null,
      "grid_column": null,
      "grid_gap": null,
      "grid_row": null,
      "grid_template_areas": null,
      "grid_template_columns": null,
      "grid_template_rows": null,
      "height": null,
      "justify_content": null,
      "justify_items": null,
      "left": null,
      "margin": null,
      "max_height": null,
      "max_width": null,
      "min_height": null,
      "min_width": null,
      "object_fit": null,
      "object_position": null,
      "order": null,
      "overflow": null,
      "overflow_x": null,
      "overflow_y": null,
      "padding": null,
      "right": null,
      "top": null,
      "visibility": null,
      "width": null
     }
    },
    "f8168e0ea9c749619b5602e26ac88a8b": {
     "model_module": "@jupyter-widgets/base",
     "model_name": "LayoutModel",
     "state": {
      "_model_module": "@jupyter-widgets/base",
      "_model_module_version": "1.2.0",
      "_model_name": "LayoutModel",
      "_view_count": null,
      "_view_module": "@jupyter-widgets/base",
      "_view_module_version": "1.2.0",
      "_view_name": "LayoutView",
      "align_content": null,
      "align_items": null,
      "align_self": null,
      "border": null,
      "bottom": null,
      "display": null,
      "flex": "2",
      "flex_flow": null,
      "grid_area": null,
      "grid_auto_columns": null,
      "grid_auto_flow": null,
      "grid_auto_rows": null,
      "grid_column": null,
      "grid_gap": null,
      "grid_row": null,
      "grid_template_areas": null,
      "grid_template_columns": null,
      "grid_template_rows": null,
      "height": null,
      "justify_content": null,
      "justify_items": null,
      "left": null,
      "margin": null,
      "max_height": null,
      "max_width": null,
      "min_height": null,
      "min_width": null,
      "object_fit": null,
      "object_position": null,
      "order": null,
      "overflow": null,
      "overflow_x": null,
      "overflow_y": null,
      "padding": null,
      "right": null,
      "top": null,
      "visibility": null,
      "width": null
     }
    },
    "f822907ee5f84e28937057f7542af0f3": {
     "model_module": "@jupyter-widgets/base",
     "model_name": "LayoutModel",
     "state": {
      "_model_module": "@jupyter-widgets/base",
      "_model_module_version": "1.2.0",
      "_model_name": "LayoutModel",
      "_view_count": null,
      "_view_module": "@jupyter-widgets/base",
      "_view_module_version": "1.2.0",
      "_view_name": "LayoutView",
      "align_content": null,
      "align_items": null,
      "align_self": null,
      "border": null,
      "bottom": null,
      "display": null,
      "flex": null,
      "flex_flow": null,
      "grid_area": null,
      "grid_auto_columns": null,
      "grid_auto_flow": null,
      "grid_auto_rows": null,
      "grid_column": null,
      "grid_gap": null,
      "grid_row": null,
      "grid_template_areas": null,
      "grid_template_columns": null,
      "grid_template_rows": null,
      "height": null,
      "justify_content": null,
      "justify_items": null,
      "left": null,
      "margin": null,
      "max_height": null,
      "max_width": null,
      "min_height": null,
      "min_width": null,
      "object_fit": null,
      "object_position": null,
      "order": null,
      "overflow": null,
      "overflow_x": null,
      "overflow_y": null,
      "padding": null,
      "right": null,
      "top": null,
      "visibility": null,
      "width": null
     }
    },
    "fab2c205e33b47dea5d5a809881a1917": {
     "model_module": "@jupyter-widgets/controls",
     "model_name": "DescriptionStyleModel",
     "state": {
      "_model_module": "@jupyter-widgets/controls",
      "_model_module_version": "1.5.0",
      "_model_name": "DescriptionStyleModel",
      "_view_count": null,
      "_view_module": "@jupyter-widgets/base",
      "_view_module_version": "1.2.0",
      "_view_name": "StyleView",
      "description_width": ""
     }
    },
    "ff9c27b76bd34e3598325b1e88b37fa0": {
     "model_module": "@jupyter-widgets/controls",
     "model_name": "HTMLModel",
     "state": {
      "_dom_classes": [],
      "_model_module": "@jupyter-widgets/controls",
      "_model_module_version": "1.5.0",
      "_model_name": "HTMLModel",
      "_view_count": null,
      "_view_module": "@jupyter-widgets/controls",
      "_view_module_version": "1.5.0",
      "_view_name": "HTMLView",
      "description": "",
      "description_tooltip": null,
      "layout": "IPY_MODEL_152ca37572a84bb6a6c73923e0a863e9",
      "placeholder": "​",
      "style": "IPY_MODEL_dbe318ad1e5349a298c26f9409a983ca",
      "value": " 0/2 [00:02&lt;?, ?it/s]"
     }
    }
   }
  }
 },
 "nbformat": 4,
 "nbformat_minor": 4
}
